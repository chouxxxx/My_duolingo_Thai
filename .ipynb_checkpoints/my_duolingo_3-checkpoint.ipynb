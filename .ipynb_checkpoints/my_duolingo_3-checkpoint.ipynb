{
 "cells": [
  {
   "cell_type": "code",
   "execution_count": 2,
   "id": "7de78183-9ec6-45d3-9bd7-5c09f3d8c9fd",
   "metadata": {
    "tags": []
   },
   "outputs": [
    {
     "ename": "UnicodeDecodeError",
     "evalue": "'utf-8' codec can't decode byte 0xe0 in position 0: unexpected end of data",
     "output_type": "error",
     "traceback": [
      "\u001b[1;31m---------------------------------------------------------------------------\u001b[0m",
      "\u001b[1;31mUnicodeDecodeError\u001b[0m                        Traceback (most recent call last)",
      "Input \u001b[1;32mIn [2]\u001b[0m, in \u001b[0;36m<cell line: 47>\u001b[1;34m()\u001b[0m\n\u001b[0;32m    141\u001b[0m     ict \u001b[38;5;241m=\u001b[39m t5 \u001b[38;5;241m+\u001b[39m otr_translation \u001b[38;5;241m+\u001b[39m t3\n\u001b[0;32m    142\u001b[0m \u001b[38;5;66;03m# Check if the answer is correct\u001b[39;00m\n\u001b[1;32m--> 143\u001b[0m \u001b[38;5;28;01mif\u001b[39;00m \u001b[43manswer\u001b[49m\u001b[38;5;241;43m.\u001b[39;49m\u001b[43mdecode\u001b[49m\u001b[43m(\u001b[49m\u001b[43m)\u001b[49m\u001b[38;5;241m.\u001b[39mupper() \u001b[38;5;241m==\u001b[39m \u001b[38;5;124m'\u001b[39m\u001b[38;5;124mW\u001b[39m\u001b[38;5;124m'\u001b[39m:\n\u001b[0;32m    144\u001b[0m     display_results(\u001b[38;5;241m0\u001b[39m)\n\u001b[0;32m    145\u001b[0m \u001b[38;5;28;01melif\u001b[39;00m answer\u001b[38;5;241m.\u001b[39mdecode()\u001b[38;5;241m.\u001b[39mupper() \u001b[38;5;241m==\u001b[39m \u001b[38;5;124m'\u001b[39m\u001b[38;5;124mX\u001b[39m\u001b[38;5;124m'\u001b[39m:\n",
      "\u001b[1;31mUnicodeDecodeError\u001b[0m: 'utf-8' codec can't decode byte 0xe0 in position 0: unexpected end of data"
     ]
    }
   ],
   "source": [
    "import pandas as pd\n",
    "import random\n",
    "from IPython.display import clear_output, display, Markdown\n",
    "import msvcrt\n",
    "\n",
    "vertical = 0\n",
    "\n",
    "right = '&emsp;&emsp;&emsp;&emsp;<font size=\"8\" color=\"#40D040\"><strong>{:>42}'\\\n",
    "        '</strong></font>'.format(\"CORRECT!\")\n",
    "wrong = '&emsp;&emsp;<font size=\"6\" color=\"#D04040\">{:>42}'\\\n",
    "        '</font>'.format(\"Incorrect.\")\n",
    "t1_0 = '<font size=\"3\">'\n",
    "t1_1 = '<font size=\"6\">'\n",
    "t1_2 = '<strong>'\n",
    "t2 = '</strong>'\n",
    "tS = '&emsp;'\n",
    "t3 = '</font>'\n",
    "t4 = '<font size=\"5\">The answer was:</font>&emsp;<font size=\"6\">'\n",
    "t5 = '<font size=\"5\">It corresponds to:</font>&emsp;<font size=\"6\">'\n",
    "\n",
    "# Define the dataframe with the correspondance table\n",
    "csvs = [\n",
    "    # \"EN_TH.csv\",\n",
    "    \"EN_TH_1syll.csv\",\n",
    "    \"EN_TH_2syll.csv\",\n",
    "    \"EN_TH_3+syll.csv\",\n",
    "    \"EN_TH_alph.csv\",\n",
    "    \"EN_TH_alph_k.csv\",\n",
    "    \"EN_TH_alph_p.csv\",\n",
    "    \"EN_TH_alph_s.csv\",\n",
    "    \"EN_TH_alph_t.csv\",\n",
    "    \"EN_TH_vowels.csv\",\n",
    "]\n",
    "tricols = csvs[:3]\n",
    "\n",
    "def display_results(ans):\n",
    "    if options[ans] == correct_translation:\n",
    "        display(Markdown(right))\n",
    "        if dic_pick in tricols:\n",
    "            display(Markdown(ict))\n",
    "    else:\n",
    "        display(Markdown(wrong))\n",
    "        display(Markdown(tru))\n",
    "\n",
    "while True:\n",
    "    # Select a random exercise\n",
    "    dic_pick = random.choice(csvs)\n",
    "    df = pd.read_csv(dic_pick)\n",
    "\n",
    "    # Select a random source language\n",
    "    src_lang = random.choice(df.columns.tolist())\n",
    "    dest_lang = random.sample([l for l in df.columns.tolist()\\\n",
    "                               if l != src_lang], 1)[0]\n",
    "    if dic_pick in tricols:\n",
    "        otr_lang = [l for l in df.columns.tolist()\\\n",
    "                    if (l != src_lang) and (l != dest_lang)][0]\n",
    "\n",
    "    # Select a random row from the dataframe\n",
    "    random_row = df.sample(1)\n",
    "    original_word = random_row.iloc[0][src_lang]\n",
    "    correct_translation = random_row.iloc[0][dest_lang]\n",
    "    if dic_pick in tricols:\n",
    "        otr_translation = random_row.iloc[0][otr_lang]\n",
    "\n",
    "    # Select three random incorrect words from the destination language column\n",
    "    # incorrect_translations = df.loc[~random_row, dest_lang].sample(3).tolist()\n",
    "    incorrect_translations = df.loc[\n",
    "        df[dest_lang] != correct_translation,\n",
    "        dest_lang,\n",
    "    ].sample(3).tolist()\n",
    "\n",
    "    # Add the correct translation to the list of incorrect translations\n",
    "    options = incorrect_translations + [correct_translation]\n",
    "    random.shuffle(options)\n",
    "\n",
    "    # Print the question and the multiple choices\n",
    "    display(Markdown(\"{}{}{}{}{}{}{}{}{}{}{}{}{}\".format(\n",
    "        '<font size=\"2\">',\n",
    "        \"Translate the following word from \",\n",
    "        '<strong>',\n",
    "        src_lang,\n",
    "        '</strong>',\n",
    "        \" to \",\n",
    "        '<strong>',\n",
    "        dest_lang,\n",
    "        '</strong>',\n",
    "        \": \",\n",
    "        '</font><font size=\"6\">&emsp;',\n",
    "        original_word,\n",
    "        '</font>',\n",
    "    )))\n",
    "    if vertical:\n",
    "        display(Markdown(\"{}{}{}{}{}{}{}\".format(t1_1, t1_2, \"W. \", tS, t2, options[0], t3)))\n",
    "        display(Markdown(\"{}{}{}{}{}{}{}\".format(t1_1, t1_2, \"X. \", tS, t2, options[1], t3)))\n",
    "        display(Markdown(\"{}{}{}{}{}{}{}\".format(t1_1, t1_2, \"C. \", tS, t2, options[2], t3)))\n",
    "        display(Markdown(\"{}{}{}{}{}{}{}\".format(t1_1, t1_2, \"V. \", tS, t2, options[3], t3)))\n",
    "    else:\n",
    "        display(Markdown(\n",
    "            \"<table style='border:0px solid black;margin-left:auto;margin-right:auto;padding:2px;border-spacing:20px;'>\"\\\n",
    "            \"    <thead>\"\\\n",
    "            \"        <tr>\"\\\n",
    "            \"            <th>{}{}{}{}{}</th>\"\\\n",
    "            \"            <th>{}{}{}{}{}</th>\"\\\n",
    "            \"            <th>{}{}{}{}{}</th>\"\\\n",
    "            \"            <th>{}{}{}{}{}</th>\"\\\n",
    "            \"        </tr>\"\\\n",
    "            \"    </thead>\"\\\n",
    "            \"    <tbody>\"\\\n",
    "            \"        <tr>\"\\\n",
    "            \"            <td style='text-align:center'>{}{}{}{}{}</td>\"\\\n",
    "            \"            <td style='text-align:center'>{}{}{}{}{}</td>\"\\\n",
    "            \"            <td style='text-align:center'>{}{}{}{}{}</td>\"\\\n",
    "            \"            <td style='text-align:center'>{}{}{}{}{}</td>\"\\\n",
    "            \"        </tr>\"\\\n",
    "            \"    </tbody>\"\\\n",
    "            \"</table>\".format(\n",
    "                t1_0, t1_2, \"W\", t2, t3,\n",
    "                t1_0, t1_2, \"X\", t2, t3,\n",
    "                t1_0, t1_2, \"C\", t2, t3,\n",
    "                t1_0, t1_2, \"V\", t2, t3,\n",
    "                tS, t1_1, options[0], t3, tS,\n",
    "                tS, t1_1, options[1], t3, tS,\n",
    "                tS, t1_1, options[2], t3, tS,\n",
    "                tS, t1_1, options[3], t3, tS,\n",
    "            )))\n",
    "    print(\"P. Quit the program.\")\n",
    "    print(\"\")\n",
    "    print(\"\")\n",
    "\n",
    "    # Get the user's answer\n",
    "    #answer = input(\"Enter the letter of your answer: \")\n",
    "    while 1:\n",
    "        if msvcrt.kbhit():\n",
    "            answer = msvcrt.getch().decode().upper()\n",
    "            break\n",
    "        time.sleep(0.1)\n",
    "    clear_output()\n",
    "\n",
    "    tru = t4 + correct_translation + t3\n",
    "    if dic_pick in tricols:\n",
    "        ict = t5 + otr_translation + t3\n",
    "    # Check if the answer is correct\n",
    "    if answer == 'W':\n",
    "        display_results(0)\n",
    "    elif answer == 'X':\n",
    "        display_results(1)\n",
    "    elif answer == 'C':\n",
    "        display_results(2)\n",
    "    elif answer == 'V':\n",
    "        display_results(3)\n",
    "    elif answer == 'P':\n",
    "        break\n",
    "    else:\n",
    "        print(\"Invalid input.\")\n",
    "    print(\"\")\n"
   ]
  },
  {
   "cell_type": "code",
   "execution_count": 3,
   "id": "36daae46-212b-40ea-92bd-6a80de69c7f3",
   "metadata": {},
   "outputs": [
    {
     "data": {
      "text/plain": [
       "b'\\xe0'"
      ]
     },
     "execution_count": 3,
     "metadata": {},
     "output_type": "execute_result"
    }
   ],
   "source": [
    "answer"
   ]
  },
  {
   "cell_type": "code",
   "execution_count": null,
   "id": "e7d51c3f-1c4c-4ca1-8acc-211870adaa8b",
   "metadata": {},
   "outputs": [],
   "source": [
    "time.sleep(0.1)\n",
    "#msvcrt.getch()\n",
    "msvcrt.kbhit()"
   ]
  },
  {
   "cell_type": "code",
   "execution_count": null,
   "id": "f78f8d5e-ca6b-4f17-9616-8e0647652b2a",
   "metadata": {},
   "outputs": [],
   "source": [
    "msvcrt.getch().decode()"
   ]
  },
  {
   "cell_type": "code",
   "execution_count": 49,
   "id": "e5353967-d2e2-4ae0-9938-201388442663",
   "metadata": {},
   "outputs": [],
   "source": [
    "import time"
   ]
  },
  {
   "cell_type": "code",
   "execution_count": null,
   "id": "3f2bbc45-339a-40a5-8d31-c4740733ced6",
   "metadata": {},
   "outputs": [],
   "source": [
    "print(\"r\")\n",
    "msvcrt.getwch()"
   ]
  },
  {
   "cell_type": "code",
   "execution_count": null,
   "id": "b5778b75-5dd2-4f6c-8fb9-edca62160dc4",
   "metadata": {},
   "outputs": [],
   "source": []
  }
 ],
 "metadata": {
  "kernelspec": {
   "display_name": "Python 3 (ipykernel)",
   "language": "python",
   "name": "python3"
  },
  "language_info": {
   "codemirror_mode": {
    "name": "ipython",
    "version": 3
   },
   "file_extension": ".py",
   "mimetype": "text/x-python",
   "name": "python",
   "nbconvert_exporter": "python",
   "pygments_lexer": "ipython3",
   "version": "3.9.12"
  }
 },
 "nbformat": 4,
 "nbformat_minor": 5
}
